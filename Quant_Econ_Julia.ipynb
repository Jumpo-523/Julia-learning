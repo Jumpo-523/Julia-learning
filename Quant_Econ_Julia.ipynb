{
 "cells": [
  {
   "cell_type": "code",
   "execution_count": 1,
   "metadata": {},
   "outputs": [
    {
     "data": {
      "image/png": "[encoded data removed]"
     },
     "execution_count": 1,
     "metadata": {},
     "output_type": "execute_result"
    }
   ],
   "source": [
    "using Plots\n",
    "gr(fmt=:png);\n",
    "plot(sin, -2π, 2π, label=\"sin(x)\")"
   ]
  },
  {
   "cell_type": "markdown",
   "metadata": {},
   "source": [
    "<!-- $$ \\exp(i \\pi) = -1$$ -->\n",
    "\n",
    "```Option + P```　で πと打てるけど...まさかJuliaが読み込んでくれるとは驚いた。"
   ]
  },
  {
   "cell_type": "code",
   "execution_count": 3,
   "metadata": {},
   "outputs": [
    {
     "data": {
      "text/plain": [
       "π = 3.1415926535897..."
      ]
     },
     "execution_count": 3,
     "metadata": {},
     "output_type": "execute_result"
    }
   ],
   "source": [
    "π"
   ]
  },
  {
   "cell_type": "code",
   "execution_count": 6,
   "metadata": {},
   "outputs": [
    {
     "name": "stdout",
     "output_type": "stream",
     "text": [
      "search: \u001b[0m\u001b[1mr\u001b[22m\u001b[0m\u001b[1me\u001b[22m\u001b[0m\u001b[1mp\u001b[22m\u001b[0m\u001b[1me\u001b[22m\u001b[0m\u001b[1ma\u001b[22m\u001b[0m\u001b[1mt\u001b[22m \u001b[0m\u001b[1mR\u001b[22m\u001b[0m\u001b[1me\u001b[22mci\u001b[0m\u001b[1mp\u001b[22m\u001b[0m\u001b[1me\u001b[22mD\u001b[0m\u001b[1ma\u001b[22m\u001b[0m\u001b[1mt\u001b[22ma \u001b[0m\u001b[1mR\u001b[22m\u001b[0m\u001b[1me\u001b[22mci\u001b[0m\u001b[1mp\u001b[22m\u001b[0m\u001b[1me\u001b[22msB\u001b[0m\u001b[1ma\u001b[22mse\n",
      "\n"
     ]
    },
    {
     "data": {
      "text/latex": [
       "\\begin{verbatim}\n",
       "repeat(A::AbstractArray, counts::Integer...)\n",
       "\\end{verbatim}\n",
       "Construct an array by repeating array \\texttt{A} a given number of times in each dimension, specified by \\texttt{counts}.\n",
       "\n",
       "\\section{Examples}\n",
       "\\begin{verbatim}\n",
       "julia> repeat([1, 2, 3], 2)\n",
       "6-element Array{Int64,1}:\n",
       " 1\n",
       " 2\n",
       " 3\n",
       " 1\n",
       " 2\n",
       " 3\n",
       "\n",
       "julia> repeat([1, 2, 3], 2, 3)\n",
       "6×3 Array{Int64,2}:\n",
       " 1  1  1\n",
       " 2  2  2\n",
       " 3  3  3\n",
       " 1  1  1\n",
       " 2  2  2\n",
       " 3  3  3\n",
       "\\end{verbatim}\n",
       "\\rule{\\textwidth}{1pt}\n",
       "\\begin{verbatim}\n",
       "repeat(A::AbstractArray; inner=ntuple(x->1, ndims(A)), outer=ntuple(x->1, ndims(A)))\n",
       "\\end{verbatim}\n",
       "Construct an array by repeating the entries of \\texttt{A}. The i-th element of \\texttt{inner} specifies the number of times that the individual entries of the i-th dimension of \\texttt{A} should be repeated. The i-th element of \\texttt{outer} specifies the number of times that a slice along the i-th dimension of \\texttt{A} should be repeated. If \\texttt{inner} or \\texttt{outer} are omitted, no repetition is performed.\n",
       "\n",
       "\\section{Examples}\n",
       "\\begin{verbatim}\n",
       "julia> repeat(1:2, inner=2)\n",
       "4-element Array{Int64,1}:\n",
       " 1\n",
       " 1\n",
       " 2\n",
       " 2\n",
       "\n",
       "julia> repeat(1:2, outer=2)\n",
       "4-element Array{Int64,1}:\n",
       " 1\n",
       " 2\n",
       " 1\n",
       " 2\n",
       "\n",
       "julia> repeat([1 2; 3 4], inner=(2, 1), outer=(1, 3))\n",
       "4×6 Array{Int64,2}:\n",
       " 1  2  1  2  1  2\n",
       " 1  2  1  2  1  2\n",
       " 3  4  3  4  3  4\n",
       " 3  4  3  4  3  4\n",
       "\\end{verbatim}\n",
       "\\rule{\\textwidth}{1pt}\n",
       "\\begin{verbatim}\n",
       "repeat(s::AbstractString, r::Integer)\n",
       "\\end{verbatim}\n",
       "Repeat a string \\texttt{r} times. This can be written as \\texttt{s\\^{}r}.\n",
       "\n",
       "See also: \\href{@ref}{\\texttt{\\^{}}}\n",
       "\n",
       "\\section{Examples}\n",
       "\\begin{verbatim}\n",
       "julia> repeat(\"ha\", 3)\n",
       "\"hahaha\"\n",
       "\\end{verbatim}\n",
       "\\rule{\\textwidth}{1pt}\n",
       "\\begin{verbatim}\n",
       "repeat(c::AbstractChar, r::Integer) -> String\n",
       "\\end{verbatim}\n",
       "Repeat a character \\texttt{r} times. This can equivalently be accomplished by calling \\href{@ref ^}{\\texttt{c\\^{}r}}.\n",
       "\n",
       "\\section{Examples}\n",
       "\\begin{verbatim}\n",
       "julia> repeat('A', 3)\n",
       "\"AAA\"\n",
       "\\end{verbatim}\n"
      ],
      "text/markdown": [
       "```\n",
       "repeat(A::AbstractArray, counts::Integer...)\n",
       "```\n",
       "\n",
       "Construct an array by repeating array `A` a given number of times in each dimension, specified by `counts`.\n",
       "\n",
       "# Examples\n",
       "\n",
       "```jldoctest\n",
       "julia> repeat([1, 2, 3], 2)\n",
       "6-element Array{Int64,1}:\n",
       " 1\n",
       " 2\n",
       " 3\n",
       " 1\n",
       " 2\n",
       " 3\n",
       "\n",
       "julia> repeat([1, 2, 3], 2, 3)\n",
       "6×3 Array{Int64,2}:\n",
       " 1  1  1\n",
       " 2  2  2\n",
       " 3  3  3\n",
       " 1  1  1\n",
       " 2  2  2\n",
       " 3  3  3\n",
       "```\n",
       "\n",
       "---\n",
       "\n",
       "```\n",
       "repeat(A::AbstractArray; inner=ntuple(x->1, ndims(A)), outer=ntuple(x->1, ndims(A)))\n",
       "```\n",
       "\n",
       "Construct an array by repeating the entries of `A`. The i-th element of `inner` specifies the number of times that the individual entries of the i-th dimension of `A` should be repeated. The i-th element of `outer` specifies the number of times that a slice along the i-th dimension of `A` should be repeated. If `inner` or `outer` are omitted, no repetition is performed.\n",
       "\n",
       "# Examples\n",
       "\n",
       "```jldoctest\n",
       "julia> repeat(1:2, inner=2)\n",
       "4-element Array{Int64,1}:\n",
       " 1\n",
       " 1\n",
       " 2\n",
       " 2\n",
       "\n",
       "julia> repeat(1:2, outer=2)\n",
       "4-element Array{Int64,1}:\n",
       " 1\n",
       " 2\n",
       " 1\n",
       " 2\n",
       "\n",
       "julia> repeat([1 2; 3 4], inner=(2, 1), outer=(1, 3))\n",
       "4×6 Array{Int64,2}:\n",
       " 1  2  1  2  1  2\n",
       " 1  2  1  2  1  2\n",
       " 3  4  3  4  3  4\n",
       " 3  4  3  4  3  4\n",
       "```\n",
       "\n",
       "---\n",
       "\n",
       "```\n",
       "repeat(s::AbstractString, r::Integer)\n",
       "```\n",
       "\n",
       "Repeat a string `r` times. This can be written as `s^r`.\n",
       "\n",
       "See also: [`^`](@ref)\n",
       "\n",
       "# Examples\n",
       "\n",
       "```jldoctest\n",
       "julia> repeat(\"ha\", 3)\n",
       "\"hahaha\"\n",
       "```\n",
       "\n",
       "---\n",
       "\n",
       "```\n",
       "repeat(c::AbstractChar, r::Integer) -> String\n",
       "```\n",
       "\n",
       "Repeat a character `r` times. This can equivalently be accomplished by calling [`c^r`](@ref ^).\n",
       "\n",
       "# Examples\n",
       "\n",
       "```jldoctest\n",
       "julia> repeat('A', 3)\n",
       "\"AAA\"\n",
       "```\n"
      ],
      "text/plain": [
       "\u001b[36m  repeat(A::AbstractArray, counts::Integer...)\u001b[39m\n",
       "\n",
       "  Construct an array by repeating array \u001b[36mA\u001b[39m a given number of times in each\n",
       "  dimension, specified by \u001b[36mcounts\u001b[39m.\n",
       "\n",
       "\u001b[1m  Examples\u001b[22m\n",
       "\u001b[1m  ≡≡≡≡≡≡≡≡≡≡\u001b[22m\n",
       "\n",
       "\u001b[36m  julia> repeat([1, 2, 3], 2)\u001b[39m\n",
       "\u001b[36m  6-element Array{Int64,1}:\u001b[39m\n",
       "\u001b[36m   1\u001b[39m\n",
       "\u001b[36m   2\u001b[39m\n",
       "\u001b[36m   3\u001b[39m\n",
       "\u001b[36m   1\u001b[39m\n",
       "\u001b[36m   2\u001b[39m\n",
       "\u001b[36m   3\u001b[39m\n",
       "\u001b[36m  \u001b[39m\n",
       "\u001b[36m  julia> repeat([1, 2, 3], 2, 3)\u001b[39m\n",
       "\u001b[36m  6×3 Array{Int64,2}:\u001b[39m\n",
       "\u001b[36m   1  1  1\u001b[39m\n",
       "\u001b[36m   2  2  2\u001b[39m\n",
       "\u001b[36m   3  3  3\u001b[39m\n",
       "\u001b[36m   1  1  1\u001b[39m\n",
       "\u001b[36m   2  2  2\u001b[39m\n",
       "\u001b[36m   3  3  3\u001b[39m\n",
       "\n",
       "  ────────────────────────────────────────────────────────────────────────────\n",
       "\n",
       "\u001b[36m  repeat(A::AbstractArray; inner=ntuple(x->1, ndims(A)), outer=ntuple(x->1, ndims(A)))\u001b[39m\n",
       "\n",
       "  Construct an array by repeating the entries of \u001b[36mA\u001b[39m. The i-th element of \u001b[36minner\u001b[39m\n",
       "  specifies the number of times that the individual entries of the i-th\n",
       "  dimension of \u001b[36mA\u001b[39m should be repeated. The i-th element of \u001b[36mouter\u001b[39m specifies the\n",
       "  number of times that a slice along the i-th dimension of \u001b[36mA\u001b[39m should be\n",
       "  repeated. If \u001b[36minner\u001b[39m or \u001b[36mouter\u001b[39m are omitted, no repetition is performed.\n",
       "\n",
       "\u001b[1m  Examples\u001b[22m\n",
       "\u001b[1m  ≡≡≡≡≡≡≡≡≡≡\u001b[22m\n",
       "\n",
       "\u001b[36m  julia> repeat(1:2, inner=2)\u001b[39m\n",
       "\u001b[36m  4-element Array{Int64,1}:\u001b[39m\n",
       "\u001b[36m   1\u001b[39m\n",
       "\u001b[36m   1\u001b[39m\n",
       "\u001b[36m   2\u001b[39m\n",
       "\u001b[36m   2\u001b[39m\n",
       "\u001b[36m  \u001b[39m\n",
       "\u001b[36m  julia> repeat(1:2, outer=2)\u001b[39m\n",
       "\u001b[36m  4-element Array{Int64,1}:\u001b[39m\n",
       "\u001b[36m   1\u001b[39m\n",
       "\u001b[36m   2\u001b[39m\n",
       "\u001b[36m   1\u001b[39m\n",
       "\u001b[36m   2\u001b[39m\n",
       "\u001b[36m  \u001b[39m\n",
       "\u001b[36m  julia> repeat([1 2; 3 4], inner=(2, 1), outer=(1, 3))\u001b[39m\n",
       "\u001b[36m  4×6 Array{Int64,2}:\u001b[39m\n",
       "\u001b[36m   1  2  1  2  1  2\u001b[39m\n",
       "\u001b[36m   1  2  1  2  1  2\u001b[39m\n",
       "\u001b[36m   3  4  3  4  3  4\u001b[39m\n",
       "\u001b[36m   3  4  3  4  3  4\u001b[39m\n",
       "\n",
       "  ────────────────────────────────────────────────────────────────────────────\n",
       "\n",
       "\u001b[36m  repeat(s::AbstractString, r::Integer)\u001b[39m\n",
       "\n",
       "  Repeat a string \u001b[36mr\u001b[39m times. This can be written as \u001b[36ms^r\u001b[39m.\n",
       "\n",
       "  See also: \u001b[36m^\u001b[39m\n",
       "\n",
       "\u001b[1m  Examples\u001b[22m\n",
       "\u001b[1m  ≡≡≡≡≡≡≡≡≡≡\u001b[22m\n",
       "\n",
       "\u001b[36m  julia> repeat(\"ha\", 3)\u001b[39m\n",
       "\u001b[36m  \"hahaha\"\u001b[39m\n",
       "\n",
       "  ────────────────────────────────────────────────────────────────────────────\n",
       "\n",
       "\u001b[36m  repeat(c::AbstractChar, r::Integer) -> String\u001b[39m\n",
       "\n",
       "  Repeat a character \u001b[36mr\u001b[39m times. This can equivalently be accomplished by calling\n",
       "  \u001b[36mc^r\u001b[39m.\n",
       "\n",
       "\u001b[1m  Examples\u001b[22m\n",
       "\u001b[1m  ≡≡≡≡≡≡≡≡≡≡\u001b[22m\n",
       "\n",
       "\u001b[36m  julia> repeat('A', 3)\u001b[39m\n",
       "\u001b[36m  \"AAA\"\u001b[39m"
      ]
     },
     "execution_count": 6,
     "metadata": {},
     "output_type": "execute_result"
    }
   ],
   "source": [
    "? repeat"
   ]
  },
  {
   "cell_type": "markdown",
   "metadata": {},
   "source": [
    "# Chapter 3.0\n",
    "\n",
    "- Variables\n",
    "- Arrays or Vectors\n",
    "- loops\n",
    "- conditionals"
   ]
  },
  {
   "cell_type": "code",
   "execution_count": 12,
   "metadata": {},
   "outputs": [],
   "source": [
    "#\n",
    "# [1:10] *2\n",
    "n = 100\n",
    "e = randn(n);"
   ]
  },
  {
   "cell_type": "code",
   "execution_count": 13,
   "metadata": {},
   "outputs": [
    {
     "data": {
      "image/png": "[encoded data removed]"
     },
     "execution_count": 13,
     "metadata": {},
     "output_type": "execute_result"
    }
   ],
   "source": [
    "Plots.plot(1:n, e)"
   ]
  },
  {
   "cell_type": "code",
   "execution_count": 15,
   "metadata": {},
   "outputs": [
    {
     "data": {
      "text/plain": [
       "Array{Float64,1}"
      ]
     },
     "execution_count": 15,
     "metadata": {},
     "output_type": "execute_result"
    }
   ],
   "source": [
    "typeof(e)"
   ]
  },
  {
   "cell_type": "code",
   "execution_count": 19,
   "metadata": {},
   "outputs": [
    {
     "data": {
      "text/plain": [
       "5-element Array{Float64,1}:\n",
       "  0.6591065664981594\n",
       " -1.2606482195970878\n",
       "  0.6928436194615167\n",
       " -0.5218574953103704\n",
       " -0.21571177320383883"
      ]
     },
     "execution_count": 19,
     "metadata": {},
     "output_type": "execute_result"
    }
   ],
   "source": [
    "# １から５番目までの要素を取ってくる（py と異なる。）\n",
    "# like matlab and fortran, and unlike python and c\n",
    "e[1:5]"
   ]
  },
  {
   "cell_type": "code",
   "execution_count": 20,
   "metadata": {},
   "outputs": [
    {
     "data": {
      "text/plain": [
       "2×2 Array{Float64,2}:\n",
       " 1.0  2.0\n",
       " 3.5  4.0"
      ]
     },
     "execution_count": 20,
     "metadata": {},
     "output_type": "execute_result"
    }
   ],
   "source": [
    "M = [1 2; 3.5 4]"
   ]
  },
  {
   "cell_type": "markdown",
   "metadata": {},
   "source": [
    "### 3.3.4 For Loop"
   ]
  },
  {
   "cell_type": "code",
   "execution_count": 23,
   "metadata": {},
   "outputs": [
    {
     "data": {
      "text/plain": [
       "(100, [0.6591065664981594, -1.2606482195970878, 0.6928436194615167, -0.5218574953103704, -0.21571177320383883, 0.7070945372526193, 0.7350501685986166, 1.117215474288135, -0.9275418952060264, 1.8905889470867814  …  0.29863829662342545, -0.664309347813428, -0.43133066650313956, -1.3501446385563884, -0.049539913260166275, 1.0002351890771117, 0.9972712187370151, 1.08563143909195, -0.13233653769558273, 0.21255748844292396])"
      ]
     },
     "execution_count": 23,
     "metadata": {},
     "output_type": "execute_result"
    }
   ],
   "source": [
    "n, e"
   ]
  },
  {
   "cell_type": "code",
   "execution_count": 26,
   "metadata": {
    "scrolled": true
   },
   "outputs": [],
   "source": [
    "for i in 1:n\n",
    "    e[i] = randn()\n",
    "    # println(e[i])\n",
    "end"
   ]
  },
  {
   "cell_type": "code",
   "execution_count": 28,
   "metadata": {},
   "outputs": [
    {
     "name": "stdout",
     "output_type": "stream",
     "text": [
      "\"\u001b[36m≠\u001b[39m\" can be typed by \u001b[36m\\ne<tab>\u001b[39m\n",
      "\n",
      "search: \u001b[0m\u001b[1m≠\u001b[22m\n",
      "\n"
     ]
    },
    {
     "data": {
      "text/latex": [
       "\\begin{verbatim}\n",
       "!=(x, y)\n",
       "≠(x,y)\n",
       "\\end{verbatim}\n",
       "Not-equals comparison operator. Always gives the opposite answer as \\href{@ref}{\\texttt{==}}.\n",
       "\n",
       "\\section{Implementation}\n",
       "New types should generally not implement this, and rely on the fallback definition \\texttt{!=(x,y) = !(x==y)} instead.\n",
       "\n",
       "\\section{Examples}\n",
       "\\begin{verbatim}\n",
       "julia> 3 != 2\n",
       "true\n",
       "\n",
       "julia> \"foo\" ≠ \"foo\"\n",
       "false\n",
       "\\end{verbatim}\n",
       "\\rule{\\textwidth}{1pt}\n",
       "\\begin{verbatim}\n",
       "!=(x)\n",
       "\\end{verbatim}\n",
       "Create a function that compares its argument to \\texttt{x} using \\href{@ref}{\\texttt{!=}}, i.e. a function equivalent to \\texttt{y -> y != x}. The returned function is of type \\texttt{Base.Fix2\\{typeof(!=)\\}}, which can be used to implement specialized methods.\n",
       "\n",
       "\\begin{quote}\n",
       "\\textbf{compat}\n",
       "\n",
       "Julia 1.2\n",
       "\n",
       "This functionality requires at least Julia 1.2.\n",
       "\n",
       "\\end{quote}\n"
      ],
      "text/markdown": [
       "```\n",
       "!=(x, y)\n",
       "≠(x,y)\n",
       "```\n",
       "\n",
       "Not-equals comparison operator. Always gives the opposite answer as [`==`](@ref).\n",
       "\n",
       "# Implementation\n",
       "\n",
       "New types should generally not implement this, and rely on the fallback definition `!=(x,y) = !(x==y)` instead.\n",
       "\n",
       "# Examples\n",
       "\n",
       "```jldoctest\n",
       "julia> 3 != 2\n",
       "true\n",
       "\n",
       "julia> \"foo\" ≠ \"foo\"\n",
       "false\n",
       "```\n",
       "\n",
       "---\n",
       "\n",
       "```\n",
       "!=(x)\n",
       "```\n",
       "\n",
       "Create a function that compares its argument to `x` using [`!=`](@ref), i.e. a function equivalent to `y -> y != x`. The returned function is of type `Base.Fix2{typeof(!=)}`, which can be used to implement specialized methods.\n",
       "\n",
       "!!! compat \"Julia 1.2\"\n",
       "    This functionality requires at least Julia 1.2.\n",
       "\n"
      ],
      "text/plain": [
       "\u001b[36m  !=(x, y)\u001b[39m\n",
       "\u001b[36m  ≠(x,y)\u001b[39m\n",
       "\n",
       "  Not-equals comparison operator. Always gives the opposite answer as \u001b[36m==\u001b[39m.\n",
       "\n",
       "\u001b[1m  Implementation\u001b[22m\n",
       "\u001b[1m  ≡≡≡≡≡≡≡≡≡≡≡≡≡≡≡≡\u001b[22m\n",
       "\n",
       "  New types should generally not implement this, and rely on the fallback\n",
       "  definition \u001b[36m!=(x,y) = !(x==y)\u001b[39m instead.\n",
       "\n",
       "\u001b[1m  Examples\u001b[22m\n",
       "\u001b[1m  ≡≡≡≡≡≡≡≡≡≡\u001b[22m\n",
       "\n",
       "\u001b[36m  julia> 3 != 2\u001b[39m\n",
       "\u001b[36m  true\u001b[39m\n",
       "\u001b[36m  \u001b[39m\n",
       "\u001b[36m  julia> \"foo\" ≠ \"foo\"\u001b[39m\n",
       "\u001b[36m  false\u001b[39m\n",
       "\n",
       "  ────────────────────────────────────────────────────────────────────────────\n",
       "\n",
       "\u001b[36m  !=(x)\u001b[39m\n",
       "\n",
       "  Create a function that compares its argument to \u001b[36mx\u001b[39m using \u001b[36m!=\u001b[39m, i.e. a function\n",
       "  equivalent to \u001b[36my -> y != x\u001b[39m. The returned function is of type\n",
       "  \u001b[36mBase.Fix2{typeof(!=)}\u001b[39m, which can be used to implement specialized methods.\n",
       "\n",
       "\u001b[39m\u001b[1m  │ \u001b[22m\u001b[39m\u001b[1mJulia 1.2\u001b[22m\n",
       "\u001b[39m\u001b[1m  │\u001b[22m\n",
       "\u001b[39m\u001b[1m  │\u001b[22m  This functionality requires at least Julia 1.2."
      ]
     },
     "execution_count": 28,
     "metadata": {},
     "output_type": "execute_result"
    }
   ],
   "source": [
    "# \"≠\" can be typed by \\ne<tab>\n",
    "? ≠"
   ]
  },
  {
   "cell_type": "code",
   "execution_count": 30,
   "metadata": {},
   "outputs": [
    {
     "data": {
      "text/plain": [
       "1"
      ]
     },
     "execution_count": 30,
     "metadata": {},
     "output_type": "execute_result"
    }
   ],
   "source": [
    "α =1"
   ]
  },
  {
   "cell_type": "code",
   "execution_count": 6,
   "metadata": {},
   "outputs": [],
   "source": [
    "ϵ = randn(100);"
   ]
  },
  {
   "cell_type": "code",
   "execution_count": 10,
   "metadata": {},
   "outputs": [
    {
     "data": {
      "text/plain": [
       "Base.OneTo(100)"
      ]
     },
     "execution_count": 10,
     "metadata": {},
     "output_type": "execute_result"
    }
   ],
   "source": [
    "eachindex(ϵ)"
   ]
  },
  {
   "cell_type": "code",
   "execution_count": 16,
   "metadata": {},
   "outputs": [
    {
     "name": "stdout",
     "output_type": "stream",
     "text": [
      "  0.000006 seconds (1 allocation: 896 bytes)\n"
     ]
    }
   ],
   "source": [
    "@time ϵ = randn(100);"
   ]
  },
  {
   "cell_type": "code",
   "execution_count": 18,
   "metadata": {},
   "outputs": [],
   "source": [
    "# {1:\"a\"}"
   ]
  },
  {
   "cell_type": "code",
   "execution_count": 19,
   "metadata": {},
   "outputs": [
    {
     "data": {
      "text/plain": [
       "1:10"
      ]
     },
     "execution_count": 19,
     "metadata": {},
     "output_type": "execute_result"
    }
   ],
   "source": [
    "slice = 1:10"
   ]
  },
  {
   "cell_type": "code",
   "execution_count": 20,
   "metadata": {},
   "outputs": [
    {
     "data": {
      "text/plain": [
       "10-element Array{Float64,1}:\n",
       " -0.6067014254074398\n",
       " -1.8546294384307542\n",
       " -1.4706870069762077\n",
       "  2.202471905635554\n",
       "  0.030050443190662787\n",
       "  1.6716342100036643\n",
       " -1.0685210650633106\n",
       "  0.2663990188677753\n",
       "  1.0402895029570387\n",
       " -0.619324824845313"
      ]
     },
     "execution_count": 20,
     "metadata": {},
     "output_type": "execute_result"
    }
   ],
   "source": [
    "ϵ[slice]"
   ]
  },
  {
   "cell_type": "code",
   "execution_count": 22,
   "metadata": {},
   "outputs": [
    {
     "data": {
      "text/plain": [
       "6-element Array{Float64,1}:\n",
       " -0.619324824845313\n",
       "  0.1281800437261011\n",
       "  0.4752077714151974\n",
       "  0.3600020333276373\n",
       "  1.0723295672429936\n",
       "  1.1729455090009622"
      ]
     },
     "execution_count": 22,
     "metadata": {},
     "output_type": "execute_result"
    }
   ],
   "source": [
    "# ϵ .^2\n",
    "st = 10\n",
    "ed = st+5\n",
    "ϵ[st:ed]"
   ]
  },
  {
   "cell_type": "code",
   "execution_count": 26,
   "metadata": {},
   "outputs": [
    {
     "data": {
      "text/plain": [
       "5-element Array{Float64,1}:\n",
       " 0.16601145901736453\n",
       " 0.02113971052049879\n",
       " 3.191588073746635\n",
       " 0.23542565795745918\n",
       " 0.06446195848694808"
      ]
     },
     "execution_count": 26,
     "metadata": {},
     "output_type": "execute_result"
    }
   ],
   "source": [
    "# UDF\n",
    "function generatedata(n)\n",
    "    ϵ = randn(n) # use built in function\n",
    "    return ϵ .^2\n",
    "end\n",
    "\n",
    "data = generatedata(5)"
   ]
  },
  {
   "cell_type": "markdown",
   "metadata": {},
   "source": [
    "## We can even drop the function if we define it on a single line."
   ]
  },
  {
   "cell_type": "code",
   "execution_count": 28,
   "metadata": {},
   "outputs": [
    {
     "ename": "MethodError",
     "evalue": "MethodError: no method matching generatedata(; n=4)\nClosest candidates are:\n  generatedata(!Matched::Any) at In[28]:1 got unsupported keyword argument \"n\"",
     "output_type": "error",
     "traceback": [
      "MethodError: no method matching generatedata(; n=4)\nClosest candidates are:\n  generatedata(!Matched::Any) at In[28]:1 got unsupported keyword argument \"n\"",
      "",
      "Stacktrace:",
      " [1] top-level scope at In[28]:2"
     ]
    }
   ],
   "source": [
    "generatedata(n) = randn(n) .^3\n",
    "# ちなみにpositional argmentはダメらしい。\n",
    "generatedata(n=4)"
   ]
  },
  {
   "cell_type": "code",
   "execution_count": 29,
   "metadata": {},
   "outputs": [
    {
     "data": {
      "text/plain": [
       "4-element Array{Float64,1}:\n",
       " -2.969322607699485\n",
       " -0.7014215612730109\n",
       " -0.028883962446790097\n",
       "  1.9750119295235082"
      ]
     },
     "execution_count": 29,
     "metadata": {},
     "output_type": "execute_result"
    }
   ],
   "source": [
    "generatedata(4)"
   ]
  },
  {
   "cell_type": "code",
   "execution_count": 30,
   "metadata": {},
   "outputs": [
    {
     "data": {
      "text/plain": [
       "5-element Array{Float64,1}:\n",
       " 0.06918095320377858\n",
       " 0.18642177943229143\n",
       " 0.00728350464838325\n",
       " 1.5387066561145326\n",
       " 0.3657690695037602"
      ]
     },
     "execution_count": 30,
     "metadata": {},
     "output_type": "execute_result"
    }
   ],
   "source": [
    "f(x) = x^2 # simple square function\n",
    "generatedata(n) = f.(randn(n)) # uses broadcast for some function `f`\n",
    "data = generatedata(5)"
   ]
  },
  {
   "cell_type": "code",
   "execution_count": 37,
   "metadata": {},
   "outputs": [
    {
     "data": {
      "text/plain": [
       "4-element Array{Int64,1}:\n",
       "  1\n",
       "  4\n",
       "  9\n",
       " 16"
      ]
     },
     "execution_count": 37,
     "metadata": {},
     "output_type": "execute_result"
    }
   ],
   "source": [
    "f.(1:4)"
   ]
  },
  {
   "cell_type": "markdown",
   "metadata": {},
   "source": [
    "Function そのものを　ブロードキャスティングできる。"
   ]
  },
  {
   "cell_type": "code",
   "execution_count": 38,
   "metadata": {},
   "outputs": [
    {
     "data": {
      "text/plain": [
       "generatedata (generic function with 2 methods)"
      ]
     },
     "execution_count": 38,
     "metadata": {},
     "output_type": "execute_result"
    }
   ],
   "source": [
    "generatedata(n, gen) = gen.(randn(n))"
   ]
  },
  {
   "cell_type": "code",
   "execution_count": 43,
   "metadata": {},
   "outputs": [
    {
     "data": {
      "text/plain": [
       "f (generic function with 1 method)"
      ]
     },
     "execution_count": 43,
     "metadata": {},
     "output_type": "execute_result"
    }
   ],
   "source": [
    "# ? generatedata\n",
    "f(x) =  x^ 2"
   ]
  },
  {
   "cell_type": "code",
   "execution_count": 44,
   "metadata": {},
   "outputs": [
    {
     "data": {
      "text/plain": [
       "5-element Array{Float64,1}:\n",
       " 0.14932717634615517\n",
       " 0.4501081871669444\n",
       " 0.719662393851354\n",
       " 1.6504924979623837e-6\n",
       " 0.4439079594427391"
      ]
     },
     "execution_count": 44,
     "metadata": {},
     "output_type": "execute_result"
    }
   ],
   "source": [
    "\n",
    "generatedata(5, f)"
   ]
  },
  {
   "cell_type": "code",
   "execution_count": null,
   "metadata": {},
   "outputs": [],
   "source": []
  },
  {
   "cell_type": "code",
   "execution_count": 48,
   "metadata": {},
   "outputs": [
    {
     "data": {
      "image/png": "[encoded data removed]"
     },
     "execution_count": 48,
     "metadata": {},
     "output_type": "execute_result"
    }
   ],
   "source": [
    "n = 10\n",
    "x = randn(n)\n",
    "plot(f.(x), label=\"x^2\")\n",
    "plot!(x, label=\"x\") # layer on the same plot"
   ]
  },
  {
   "cell_type": "code",
   "execution_count": 49,
   "metadata": {},
   "outputs": [
    {
     "data": {
      "image/png": "[encoded data removed]"
     },
     "execution_count": 49,
     "metadata": {},
     "output_type": "execute_result"
    }
   ],
   "source": [
    "plot(f.(x), label=\"x^2\")\n",
    "plot(x, label=\"x\")"
   ]
  },
  {
   "cell_type": "markdown",
   "metadata": {},
   "source": [
    "```!```一つで変わってしまうのか？！\n",
    "\n",
    "[8/5] 演算子の使い方がまだ不明瞭\n",
    "\n",
    "    While broadcasting above superficially looks like vectorizing functions in MATLAB, or\n",
    "    Python ufuncs, it is much richer and built on core foundations of the language.\n",
    "    The other additional function plot! adds a graph to the existing plot.\n",
    "    This follows a general convention in Julia, where a function that modifies the arguments or a\n",
    "    global state has a ! at the end of its name.\n"
   ]
  },
  {
   "cell_type": "code",
   "execution_count": 53,
   "metadata": {},
   "outputs": [
    {
     "name": "stderr",
     "output_type": "stream",
     "text": [
      "\u001b[32m\u001b[1m   Updating\u001b[22m\u001b[39m registry at `~/.julia/registries/General`\n",
      "######################################################################### 100.0%\n",
      "\u001b[32m\u001b[1m  Resolving\u001b[22m\u001b[39m package versions...\n",
      "\u001b[32m\u001b[1m  Installed\u001b[22m\u001b[39m Distributions ─ v0.23.8\n",
      "\u001b[32m\u001b[1mUpdating\u001b[22m\u001b[39m `~/.julia/environments/v1.5/Project.toml`\n",
      " \u001b[90m [31c24e10] \u001b[39m\u001b[92m+ Distributions v0.23.8\u001b[39m\n",
      "\u001b[32m\u001b[1mUpdating\u001b[22m\u001b[39m `~/.julia/environments/v1.5/Manifest.toml`\n",
      " \u001b[90m [31c24e10] \u001b[39m\u001b[93m↑ Distributions v0.23.7 ⇒ v0.23.8\u001b[39m\n"
     ]
    }
   ],
   "source": [
    "using Pkg\n",
    "Pkg.add(\"Distributions\")"
   ]
  },
  {
   "cell_type": "code",
   "execution_count": 5,
   "metadata": {},
   "outputs": [
    {
     "data": {
      "image/png": "[encoded data removed]"
     },
     "execution_count": 5,
     "metadata": {},
     "output_type": "execute_result"
    }
   ],
   "source": [
    "using Distributions\n",
    "function plothistogram(distribution, n)\n",
    "ϵ = rand(distribution, n) # n draws from distribution\n",
    "histogram(ϵ)\n",
    "end\n",
    "lp = Laplace()\n",
    "plothistogram(lp, 500)"
   ]
  },
  {
   "cell_type": "markdown",
   "metadata": {},
   "source": [
    "> Julia use \"multiple dispatch\""
   ]
  },
  {
   "cell_type": "code",
   "execution_count": 7,
   "metadata": {},
   "outputs": [
    {
     "data": {
      "text/plain": [
       "([0.3323427238142238, 0.8508928910470597, 0.4836895477265042, 0.751805042771742, 0.2808851540548962, 0.13660775654548885, 0.40587758369731564, 0.4246580192038336, 0.20191762379760658, 0.7568514629167475], [-0.5710346724644252, -0.20335745528689167, 0.9271974939375371, -0.1343595223853637, 0.36643303337627475, -0.9553408090036255, 0.3924469710665897, -1.162664116030611, -0.405683551747948, -0.9417259248144095])"
      ]
     },
     "execution_count": 7,
     "metadata": {},
     "output_type": "execute_result"
    }
   ],
   "source": [
    "n = 10\n",
    "rand(10), rand(Laplace(), n)"
   ]
  },
  {
   "cell_type": "markdown",
   "metadata": {},
   "source": [
    "3.4 ex: Variations on Fixed Points"
   ]
  },
  {
   "cell_type": "code",
   "execution_count": 19,
   "metadata": {},
   "outputs": [
    {
     "data": {
      "text/plain": [
       "fixedpointmap (generic function with 1 method)"
      ]
     },
     "execution_count": 19,
     "metadata": {},
     "output_type": "execute_result"
    }
   ],
   "source": [
    "# ν = p + βν\n",
    "# Wiith β < 1 then ν will be converging.\n",
    "\n",
    "# Can we broadcast when using the function?\n",
    "\n",
    "function fixedpointmap(f; iv, tolerance=1E-7, maxiter=1000)\n",
    "    # setup the algorithm\n",
    "    # iv: initial value.\n",
    "    x_old = iv\n",
    "    normdiff = Inf\n",
    "    iter = 1\n",
    "    while normdiff > tolerance && iter <= maxiter\n",
    "        x_new = f(x_old) # use the passed in map\n",
    "        normdiff = norm(x_new - x_old)\n",
    "        x_old = x_new\n",
    "        iter = iter + 1\n",
    "    end\n",
    "    return (value = x_old, normdiff=normdiff, iter=iter) # A named tuple\n",
    "end"
   ]
  },
  {
   "cell_type": "code",
   "execution_count": 20,
   "metadata": {},
   "outputs": [
    {
     "data": {
      "text/plain": [
       "f (generic function with 1 method)"
      ]
     },
     "execution_count": 20,
     "metadata": {},
     "output_type": "execute_result"
    }
   ],
   "source": [
    "p =1.0\n",
    "β = 0.9\n",
    "f(v) = p + β* v"
   ]
  },
  {
   "cell_type": "code",
   "execution_count": 30,
   "metadata": {},
   "outputs": [
    {
     "name": "stdout",
     "output_type": "stream",
     "text": [
      "Fixed point = 9.999999918629035, and |f(x) - x| = 9.041219328764782e-9 in 177 iterations\n"
     ]
    }
   ],
   "source": [
    "\n",
    "sol = fixedpointmap(f, iv=0.8, tolerance=1.0E-8) # don't need to pass\n",
    "println(\"Fixed point = $(sol.value), and |f(x) - x| = $(sol.normdiff) in $(sol.iter) iterations\")"
   ]
  },
  {
   "cell_type": "markdown",
   "metadata": {},
   "source": [
    "- In this example, all function parameters after the ; in the list, must be called by name\n",
    "- default values can be enabled."
   ]
  },
  {
   "cell_type": "code",
   "execution_count": 10,
   "metadata": {},
   "outputs": [],
   "source": [
    "# r = 4\n",
    "# r^2 * π "
   ]
  },
  {
   "cell_type": "code",
   "execution_count": 25,
   "metadata": {},
   "outputs": [
    {
     "data": {
      "text/plain": [
       "norm (generic function with 15 methods)"
      ]
     },
     "execution_count": 25,
     "metadata": {},
     "output_type": "execute_result"
    }
   ],
   "source": [
    "using LinearAlgebra\n",
    "norm"
   ]
  },
  {
   "cell_type": "code",
   "execution_count": null,
   "metadata": {},
   "outputs": [],
   "source": []
  },
  {
   "cell_type": "code",
   "execution_count": null,
   "metadata": {},
   "outputs": [],
   "source": []
  },
  {
   "cell_type": "code",
   "execution_count": null,
   "metadata": {},
   "outputs": [],
   "source": []
  },
  {
   "cell_type": "code",
   "execution_count": null,
   "metadata": {},
   "outputs": [],
   "source": []
  }
 ],
 "metadata": {
  "kernelspec": {
   "display_name": "Julia 1.5.0",
   "language": "julia",
   "name": "julia-1.5"
  },
  "language_info": {
   "file_extension": ".jl",
   "mimetype": "application/julia",
   "name": "julia",
   "version": "1.5.0"
  }
 },
 "nbformat": 4,
 "nbformat_minor": 2
}
